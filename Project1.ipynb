{
  "nbformat": 4,
  "nbformat_minor": 0,
  "metadata": {
    "colab": {
      "name": "Project1.ipynb",
      "provenance": [],
      "collapsed_sections": []
    },
    "kernelspec": {
      "name": "python3",
      "display_name": "Python 3"
    },
    "language_info": {
      "name": "python"
    }
  },
  "cells": [
    {
      "cell_type": "code",
      "source": [
        "#install libraries\n",
        "!pip install texthero"
      ],
      "metadata": {
        "colab": {
          "base_uri": "https://localhost:8080/"
        },
        "id": "-lb2LRLyGWXm",
        "outputId": "873cc217-6552-4c76-b556-6199384f3d79"
      },
      "execution_count": 1,
      "outputs": [
        {
          "output_type": "stream",
          "name": "stdout",
          "text": [
            "Collecting texthero\n",
            "  Downloading texthero-1.1.0-py3-none-any.whl (24 kB)\n",
            "Requirement already satisfied: matplotlib>=3.1.0 in /usr/local/lib/python3.7/dist-packages (from texthero) (3.2.2)\n",
            "Collecting unidecode>=1.1.1\n",
            "  Downloading Unidecode-1.3.2-py3-none-any.whl (235 kB)\n",
            "\u001b[K     |████████████████████████████████| 235 kB 9.6 MB/s \n",
            "\u001b[?25hRequirement already satisfied: spacy<3.0.0 in /usr/local/lib/python3.7/dist-packages (from texthero) (2.2.4)\n",
            "Requirement already satisfied: gensim<4.0,>=3.6.0 in /usr/local/lib/python3.7/dist-packages (from texthero) (3.6.0)\n",
            "Requirement already satisfied: pandas>=1.0.2 in /usr/local/lib/python3.7/dist-packages (from texthero) (1.1.5)\n",
            "Requirement already satisfied: tqdm>=4.3 in /usr/local/lib/python3.7/dist-packages (from texthero) (4.62.3)\n",
            "Requirement already satisfied: numpy>=1.17 in /usr/local/lib/python3.7/dist-packages (from texthero) (1.19.5)\n",
            "Collecting nltk>=3.3\n",
            "  Downloading nltk-3.6.6-py3-none-any.whl (1.5 MB)\n",
            "\u001b[K     |████████████████████████████████| 1.5 MB 38.8 MB/s \n",
            "\u001b[?25hRequirement already satisfied: scikit-learn>=0.22 in /usr/local/lib/python3.7/dist-packages (from texthero) (1.0.1)\n",
            "Requirement already satisfied: plotly>=4.2.0 in /usr/local/lib/python3.7/dist-packages (from texthero) (4.4.1)\n",
            "Requirement already satisfied: wordcloud>=1.5.0 in /usr/local/lib/python3.7/dist-packages (from texthero) (1.5.0)\n",
            "Requirement already satisfied: scipy>=0.18.1 in /usr/local/lib/python3.7/dist-packages (from gensim<4.0,>=3.6.0->texthero) (1.4.1)\n",
            "Requirement already satisfied: six>=1.5.0 in /usr/local/lib/python3.7/dist-packages (from gensim<4.0,>=3.6.0->texthero) (1.15.0)\n",
            "Requirement already satisfied: smart-open>=1.2.1 in /usr/local/lib/python3.7/dist-packages (from gensim<4.0,>=3.6.0->texthero) (5.2.1)\n",
            "Requirement already satisfied: python-dateutil>=2.1 in /usr/local/lib/python3.7/dist-packages (from matplotlib>=3.1.0->texthero) (2.8.2)\n",
            "Requirement already satisfied: pyparsing!=2.0.4,!=2.1.2,!=2.1.6,>=2.0.1 in /usr/local/lib/python3.7/dist-packages (from matplotlib>=3.1.0->texthero) (3.0.6)\n",
            "Requirement already satisfied: kiwisolver>=1.0.1 in /usr/local/lib/python3.7/dist-packages (from matplotlib>=3.1.0->texthero) (1.3.2)\n",
            "Requirement already satisfied: cycler>=0.10 in /usr/local/lib/python3.7/dist-packages (from matplotlib>=3.1.0->texthero) (0.11.0)\n",
            "Requirement already satisfied: click in /usr/local/lib/python3.7/dist-packages (from nltk>=3.3->texthero) (7.1.2)\n",
            "Requirement already satisfied: joblib in /usr/local/lib/python3.7/dist-packages (from nltk>=3.3->texthero) (1.1.0)\n",
            "Collecting regex>=2021.8.3\n",
            "  Downloading regex-2021.11.10-cp37-cp37m-manylinux_2_17_x86_64.manylinux2014_x86_64.whl (749 kB)\n",
            "\u001b[K     |████████████████████████████████| 749 kB 54.0 MB/s \n",
            "\u001b[?25hRequirement already satisfied: pytz>=2017.2 in /usr/local/lib/python3.7/dist-packages (from pandas>=1.0.2->texthero) (2018.9)\n",
            "Requirement already satisfied: retrying>=1.3.3 in /usr/local/lib/python3.7/dist-packages (from plotly>=4.2.0->texthero) (1.3.3)\n",
            "Requirement already satisfied: threadpoolctl>=2.0.0 in /usr/local/lib/python3.7/dist-packages (from scikit-learn>=0.22->texthero) (3.0.0)\n",
            "Requirement already satisfied: thinc==7.4.0 in /usr/local/lib/python3.7/dist-packages (from spacy<3.0.0->texthero) (7.4.0)\n",
            "Requirement already satisfied: setuptools in /usr/local/lib/python3.7/dist-packages (from spacy<3.0.0->texthero) (57.4.0)\n",
            "Requirement already satisfied: blis<0.5.0,>=0.4.0 in /usr/local/lib/python3.7/dist-packages (from spacy<3.0.0->texthero) (0.4.1)\n",
            "Requirement already satisfied: murmurhash<1.1.0,>=0.28.0 in /usr/local/lib/python3.7/dist-packages (from spacy<3.0.0->texthero) (1.0.6)\n",
            "Requirement already satisfied: catalogue<1.1.0,>=0.0.7 in /usr/local/lib/python3.7/dist-packages (from spacy<3.0.0->texthero) (1.0.0)\n",
            "Requirement already satisfied: wasabi<1.1.0,>=0.4.0 in /usr/local/lib/python3.7/dist-packages (from spacy<3.0.0->texthero) (0.8.2)\n",
            "Requirement already satisfied: plac<1.2.0,>=0.9.6 in /usr/local/lib/python3.7/dist-packages (from spacy<3.0.0->texthero) (1.1.3)\n",
            "Requirement already satisfied: requests<3.0.0,>=2.13.0 in /usr/local/lib/python3.7/dist-packages (from spacy<3.0.0->texthero) (2.23.0)\n",
            "Requirement already satisfied: cymem<2.1.0,>=2.0.2 in /usr/local/lib/python3.7/dist-packages (from spacy<3.0.0->texthero) (2.0.6)\n",
            "Requirement already satisfied: preshed<3.1.0,>=3.0.2 in /usr/local/lib/python3.7/dist-packages (from spacy<3.0.0->texthero) (3.0.6)\n",
            "Requirement already satisfied: srsly<1.1.0,>=1.0.2 in /usr/local/lib/python3.7/dist-packages (from spacy<3.0.0->texthero) (1.0.5)\n",
            "Requirement already satisfied: importlib-metadata>=0.20 in /usr/local/lib/python3.7/dist-packages (from catalogue<1.1.0,>=0.0.7->spacy<3.0.0->texthero) (4.8.2)\n",
            "Requirement already satisfied: zipp>=0.5 in /usr/local/lib/python3.7/dist-packages (from importlib-metadata>=0.20->catalogue<1.1.0,>=0.0.7->spacy<3.0.0->texthero) (3.6.0)\n",
            "Requirement already satisfied: typing-extensions>=3.6.4 in /usr/local/lib/python3.7/dist-packages (from importlib-metadata>=0.20->catalogue<1.1.0,>=0.0.7->spacy<3.0.0->texthero) (3.10.0.2)\n",
            "Requirement already satisfied: idna<3,>=2.5 in /usr/local/lib/python3.7/dist-packages (from requests<3.0.0,>=2.13.0->spacy<3.0.0->texthero) (2.10)\n",
            "Requirement already satisfied: certifi>=2017.4.17 in /usr/local/lib/python3.7/dist-packages (from requests<3.0.0,>=2.13.0->spacy<3.0.0->texthero) (2021.10.8)\n",
            "Requirement already satisfied: urllib3!=1.25.0,!=1.25.1,<1.26,>=1.21.1 in /usr/local/lib/python3.7/dist-packages (from requests<3.0.0,>=2.13.0->spacy<3.0.0->texthero) (1.24.3)\n",
            "Requirement already satisfied: chardet<4,>=3.0.2 in /usr/local/lib/python3.7/dist-packages (from requests<3.0.0,>=2.13.0->spacy<3.0.0->texthero) (3.0.4)\n",
            "Requirement already satisfied: pillow in /usr/local/lib/python3.7/dist-packages (from wordcloud>=1.5.0->texthero) (7.1.2)\n",
            "Installing collected packages: regex, unidecode, nltk, texthero\n",
            "  Attempting uninstall: regex\n",
            "    Found existing installation: regex 2019.12.20\n",
            "    Uninstalling regex-2019.12.20:\n",
            "      Successfully uninstalled regex-2019.12.20\n",
            "  Attempting uninstall: nltk\n",
            "    Found existing installation: nltk 3.2.5\n",
            "    Uninstalling nltk-3.2.5:\n",
            "      Successfully uninstalled nltk-3.2.5\n",
            "Successfully installed nltk-3.6.6 regex-2021.11.10 texthero-1.1.0 unidecode-1.3.2\n"
          ]
        }
      ]
    },
    {
      "cell_type": "code",
      "execution_count": 2,
      "metadata": {
        "id": "Z-E9QP09E7Kn",
        "colab": {
          "base_uri": "https://localhost:8080/"
        },
        "outputId": "db0fac61-1f78-4560-ace5-950dedaf2103"
      },
      "outputs": [
        {
          "output_type": "stream",
          "name": "stderr",
          "text": [
            "[nltk_data] Downloading package stopwords to /root/nltk_data...\n",
            "[nltk_data]   Unzipping corpora/stopwords.zip.\n"
          ]
        }
      ],
      "source": [
        "#import libraries\n",
        "import numpy as np\n",
        "import pandas as pd\n",
        "import tensorflow as tf\n",
        "import texthero as hero\n",
        "from tensorflow import keras\n",
        "from sklearn import preprocessing\n",
        "from tensorflow.keras import layers, Model"
      ]
    },
    {
      "cell_type": "code",
      "source": [
        "#read and shuffle the dataframe\n",
        "df = pd.read_csv('vgsales.csv')\n",
        "df = df.sample(frac = 1)\n",
        "df.head()"
      ],
      "metadata": {
        "colab": {
          "base_uri": "https://localhost:8080/",
          "height": 206
        },
        "id": "nVrHgu-qF4wk",
        "outputId": "dab96b06-e468-45b0-a5a3-80c63bdeafb0"
      },
      "execution_count": 5,
      "outputs": [
        {
          "output_type": "execute_result",
          "data": {
            "text/html": [
              "\n",
              "  <div id=\"df-f85b555a-9525-42dc-a8dc-3a1e279ca4cc\">\n",
              "    <div class=\"colab-df-container\">\n",
              "      <div>\n",
              "<style scoped>\n",
              "    .dataframe tbody tr th:only-of-type {\n",
              "        vertical-align: middle;\n",
              "    }\n",
              "\n",
              "    .dataframe tbody tr th {\n",
              "        vertical-align: top;\n",
              "    }\n",
              "\n",
              "    .dataframe thead th {\n",
              "        text-align: right;\n",
              "    }\n",
              "</style>\n",
              "<table border=\"1\" class=\"dataframe\">\n",
              "  <thead>\n",
              "    <tr style=\"text-align: right;\">\n",
              "      <th></th>\n",
              "      <th>Rank</th>\n",
              "      <th>Name</th>\n",
              "      <th>Platform</th>\n",
              "      <th>Year</th>\n",
              "      <th>Genre</th>\n",
              "      <th>Publisher</th>\n",
              "      <th>NA_Sales</th>\n",
              "      <th>EU_Sales</th>\n",
              "      <th>JP_Sales</th>\n",
              "      <th>Other_Sales</th>\n",
              "      <th>Global_Sales</th>\n",
              "    </tr>\n",
              "  </thead>\n",
              "  <tbody>\n",
              "    <tr>\n",
              "      <th>8085</th>\n",
              "      <td>8087</td>\n",
              "      <td>Battle Commander: Hachibushu Shura no Heihou</td>\n",
              "      <td>SNES</td>\n",
              "      <td>1991.0</td>\n",
              "      <td>Strategy</td>\n",
              "      <td>Banpresto</td>\n",
              "      <td>0.00</td>\n",
              "      <td>0.00</td>\n",
              "      <td>0.18</td>\n",
              "      <td>0.00</td>\n",
              "      <td>0.18</td>\n",
              "    </tr>\n",
              "    <tr>\n",
              "      <th>13472</th>\n",
              "      <td>13474</td>\n",
              "      <td>Nihon Pro Mahjong Kishikai Kanshuu: Pro Ni Nar...</td>\n",
              "      <td>DS</td>\n",
              "      <td>2005.0</td>\n",
              "      <td>Misc</td>\n",
              "      <td>Success</td>\n",
              "      <td>0.00</td>\n",
              "      <td>0.00</td>\n",
              "      <td>0.04</td>\n",
              "      <td>0.00</td>\n",
              "      <td>0.04</td>\n",
              "    </tr>\n",
              "    <tr>\n",
              "      <th>8869</th>\n",
              "      <td>8871</td>\n",
              "      <td>T'ai Fu: Wrath of the Tiger</td>\n",
              "      <td>PS</td>\n",
              "      <td>1998.0</td>\n",
              "      <td>Action</td>\n",
              "      <td>Activision</td>\n",
              "      <td>0.08</td>\n",
              "      <td>0.06</td>\n",
              "      <td>0.00</td>\n",
              "      <td>0.01</td>\n",
              "      <td>0.15</td>\n",
              "    </tr>\n",
              "    <tr>\n",
              "      <th>15628</th>\n",
              "      <td>15631</td>\n",
              "      <td>Rising Zan: The Samurai Gunman</td>\n",
              "      <td>PS</td>\n",
              "      <td>1998.0</td>\n",
              "      <td>Action</td>\n",
              "      <td>Agetec</td>\n",
              "      <td>0.01</td>\n",
              "      <td>0.01</td>\n",
              "      <td>0.00</td>\n",
              "      <td>0.00</td>\n",
              "      <td>0.02</td>\n",
              "    </tr>\n",
              "    <tr>\n",
              "      <th>1329</th>\n",
              "      <td>1331</td>\n",
              "      <td>Dragon Quest Monsters: Joker 2</td>\n",
              "      <td>DS</td>\n",
              "      <td>2010.0</td>\n",
              "      <td>Role-Playing</td>\n",
              "      <td>Square Enix</td>\n",
              "      <td>0.11</td>\n",
              "      <td>0.08</td>\n",
              "      <td>1.24</td>\n",
              "      <td>0.02</td>\n",
              "      <td>1.45</td>\n",
              "    </tr>\n",
              "  </tbody>\n",
              "</table>\n",
              "</div>\n",
              "      <button class=\"colab-df-convert\" onclick=\"convertToInteractive('df-f85b555a-9525-42dc-a8dc-3a1e279ca4cc')\"\n",
              "              title=\"Convert this dataframe to an interactive table.\"\n",
              "              style=\"display:none;\">\n",
              "        \n",
              "  <svg xmlns=\"http://www.w3.org/2000/svg\" height=\"24px\"viewBox=\"0 0 24 24\"\n",
              "       width=\"24px\">\n",
              "    <path d=\"M0 0h24v24H0V0z\" fill=\"none\"/>\n",
              "    <path d=\"M18.56 5.44l.94 2.06.94-2.06 2.06-.94-2.06-.94-.94-2.06-.94 2.06-2.06.94zm-11 1L8.5 8.5l.94-2.06 2.06-.94-2.06-.94L8.5 2.5l-.94 2.06-2.06.94zm10 10l.94 2.06.94-2.06 2.06-.94-2.06-.94-.94-2.06-.94 2.06-2.06.94z\"/><path d=\"M17.41 7.96l-1.37-1.37c-.4-.4-.92-.59-1.43-.59-.52 0-1.04.2-1.43.59L10.3 9.45l-7.72 7.72c-.78.78-.78 2.05 0 2.83L4 21.41c.39.39.9.59 1.41.59.51 0 1.02-.2 1.41-.59l7.78-7.78 2.81-2.81c.8-.78.8-2.07 0-2.86zM5.41 20L4 18.59l7.72-7.72 1.47 1.35L5.41 20z\"/>\n",
              "  </svg>\n",
              "      </button>\n",
              "      \n",
              "  <style>\n",
              "    .colab-df-container {\n",
              "      display:flex;\n",
              "      flex-wrap:wrap;\n",
              "      gap: 12px;\n",
              "    }\n",
              "\n",
              "    .colab-df-convert {\n",
              "      background-color: #E8F0FE;\n",
              "      border: none;\n",
              "      border-radius: 50%;\n",
              "      cursor: pointer;\n",
              "      display: none;\n",
              "      fill: #1967D2;\n",
              "      height: 32px;\n",
              "      padding: 0 0 0 0;\n",
              "      width: 32px;\n",
              "    }\n",
              "\n",
              "    .colab-df-convert:hover {\n",
              "      background-color: #E2EBFA;\n",
              "      box-shadow: 0px 1px 2px rgba(60, 64, 67, 0.3), 0px 1px 3px 1px rgba(60, 64, 67, 0.15);\n",
              "      fill: #174EA6;\n",
              "    }\n",
              "\n",
              "    [theme=dark] .colab-df-convert {\n",
              "      background-color: #3B4455;\n",
              "      fill: #D2E3FC;\n",
              "    }\n",
              "\n",
              "    [theme=dark] .colab-df-convert:hover {\n",
              "      background-color: #434B5C;\n",
              "      box-shadow: 0px 1px 3px 1px rgba(0, 0, 0, 0.15);\n",
              "      filter: drop-shadow(0px 1px 2px rgba(0, 0, 0, 0.3));\n",
              "      fill: #FFFFFF;\n",
              "    }\n",
              "  </style>\n",
              "\n",
              "      <script>\n",
              "        const buttonEl =\n",
              "          document.querySelector('#df-f85b555a-9525-42dc-a8dc-3a1e279ca4cc button.colab-df-convert');\n",
              "        buttonEl.style.display =\n",
              "          google.colab.kernel.accessAllowed ? 'block' : 'none';\n",
              "\n",
              "        async function convertToInteractive(key) {\n",
              "          const element = document.querySelector('#df-f85b555a-9525-42dc-a8dc-3a1e279ca4cc');\n",
              "          const dataTable =\n",
              "            await google.colab.kernel.invokeFunction('convertToInteractive',\n",
              "                                                     [key], {});\n",
              "          if (!dataTable) return;\n",
              "\n",
              "          const docLinkHtml = 'Like what you see? Visit the ' +\n",
              "            '<a target=\"_blank\" href=https://colab.research.google.com/notebooks/data_table.ipynb>data table notebook</a>'\n",
              "            + ' to learn more about interactive tables.';\n",
              "          element.innerHTML = '';\n",
              "          dataTable['output_type'] = 'display_data';\n",
              "          await google.colab.output.renderOutput(dataTable, element);\n",
              "          const docLink = document.createElement('div');\n",
              "          docLink.innerHTML = docLinkHtml;\n",
              "          element.appendChild(docLink);\n",
              "        }\n",
              "      </script>\n",
              "    </div>\n",
              "  </div>\n",
              "  "
            ],
            "text/plain": [
              "        Rank  ... Global_Sales\n",
              "8085    8087  ...         0.18\n",
              "13472  13474  ...         0.04\n",
              "8869    8871  ...         0.15\n",
              "15628  15631  ...         0.02\n",
              "1329    1331  ...         1.45\n",
              "\n",
              "[5 rows x 11 columns]"
            ]
          },
          "metadata": {},
          "execution_count": 5
        }
      ]
    },
    {
      "cell_type": "code",
      "source": [
        "# clean the text column\n",
        "df['Name'] = hero.clean(df['Name'])\n",
        "df['Genre'] = hero.clean(df['Genre'])"
      ],
      "metadata": {
        "id": "LEr4-Y68GvND"
      },
      "execution_count": 6,
      "outputs": []
    },
    {
      "cell_type": "code",
      "source": [
        "# pad tokens \n",
        "vocab = dict()\n",
        "vocab['<pad>'] = 1\n",
        "cnt = 2\n",
        "\n",
        "for i in df['Name']:\n",
        "  txt = i.split(' ')\n",
        "  for j in txt:\n",
        "\n",
        "    if vocab.get(j) == None:\n",
        "      vocab[j] = cnt\n",
        "      cnt += 1"
      ],
      "metadata": {
        "id": "oyk_HECypRjp"
      },
      "execution_count": 7,
      "outputs": []
    },
    {
      "cell_type": "code",
      "source": [
        "#length of vocabulary\n",
        "len(vocab)"
      ],
      "metadata": {
        "colab": {
          "base_uri": "https://localhost:8080/"
        },
        "id": "phLXEgJ9phU6",
        "outputId": "d52451f9-fdde-4dc5-c4d7-21731c2953af"
      },
      "execution_count": 8,
      "outputs": [
        {
          "output_type": "execute_result",
          "data": {
            "text/plain": [
              "8611"
            ]
          },
          "metadata": {},
          "execution_count": 8
        }
      ]
    },
    {
      "cell_type": "code",
      "source": [
        "# get the text\n",
        "Name_X = []\n",
        "\n",
        "for i in range(len(df)):\n",
        "  txt = df['Name'][i].split(' ')\n",
        "  temp = []\n",
        "  for j in txt:\n",
        "    temp.append(vocab[j])\n",
        "  Name_X.append(temp)"
      ],
      "metadata": {
        "id": "wbv8gsxEqMe-"
      },
      "execution_count": 9,
      "outputs": []
    },
    {
      "cell_type": "code",
      "source": [
        "Name_X = tf.keras.preprocessing.sequence.pad_sequences(\n",
        "    Name_X , maxlen=20, dtype='int32', padding='post',\n",
        "    truncating='post'\n",
        ")"
      ],
      "metadata": {
        "id": "qSlyyzqmoswl"
      },
      "execution_count": 10,
      "outputs": []
    },
    {
      "cell_type": "code",
      "source": [
        "X = df.drop(['Genre',\t'Publisher', 'Platform', 'Name', 'Rank', 'Year'], axis=1)\n",
        "y = df['Genre']"
      ],
      "metadata": {
        "id": "SXDoXWR-iD6d"
      },
      "execution_count": 11,
      "outputs": []
    },
    {
      "cell_type": "code",
      "source": [
        "# label-encoding\n",
        "le = preprocessing.LabelEncoder()\n",
        "y = le.fit_transform(y)"
      ],
      "metadata": {
        "id": "_VyfgfKwhBNO"
      },
      "execution_count": 12,
      "outputs": []
    },
    {
      "cell_type": "code",
      "source": [
        "# convert label-encoding to categorical\n",
        "y = tf.keras.utils.to_categorical( y, num_classes=df['Genre'].nunique(), dtype='int32')"
      ],
      "metadata": {
        "id": "s6R5EyuxhCts"
      },
      "execution_count": 13,
      "outputs": []
    },
    {
      "cell_type": "code",
      "source": [
        "# max. length of the text\n",
        "def Name_len(x):\n",
        "  return len(x.split(' '))\n",
        "\n",
        "name_max_len = max(df['Name'].apply(lambda x : Name_len(x)).to_list())"
      ],
      "metadata": {
        "id": "6RdsIlUpIGgX"
      },
      "execution_count": 14,
      "outputs": []
    },
    {
      "cell_type": "code",
      "source": [
        ""
      ],
      "metadata": {
        "id": "-pHIb_lVysJy"
      },
      "execution_count": null,
      "outputs": []
    },
    {
      "cell_type": "code",
      "source": [
        "# create the model\n",
        "model_name = keras.Sequential()\n",
        "model_name.add(tf.keras.layers.Embedding(input_dim=len(vocab)+1000, output_dim=64, input_length=20))\n",
        "model_name.add(tf.keras.layers.LSTM(64, activation='relu', input_shape=(20, 64)))\n",
        "model_name.add(tf.keras.layers.Dense(10, activation='relu'))\n",
        "\n",
        "model_regress = keras.Sequential()\n",
        "model_regress.add(tf.keras.layers.Input(shape=(5,)))\n",
        "model_regress.add(tf.keras.layers.Dense(64, activation='relu'))\n",
        "model_regress.add(tf.keras.layers.Dense(10, activation='relu'))\n",
        "\n",
        "concat = tf.keras.layers.concatenate([model_name.output, model_regress.output])\n",
        "final_op = tf.keras.layers.Dense(12, activation='softmax')(concat)\n",
        "\n",
        "full_model = tf.keras.Model(inputs=[model_name.input, model_regress.input], outputs=[final_op])\n",
        "full_model.summary()"
      ],
      "metadata": {
        "colab": {
          "base_uri": "https://localhost:8080/"
        },
        "id": "XGh41pi2HacM",
        "outputId": "2a4951b2-8750-4669-f049-1fe2139a4d46"
      },
      "execution_count": 25,
      "outputs": [
        {
          "output_type": "stream",
          "name": "stdout",
          "text": [
            "Model: \"model_2\"\n",
            "__________________________________________________________________________________________________\n",
            " Layer (type)                   Output Shape         Param #     Connected to                     \n",
            "==================================================================================================\n",
            " embedding_2_input (InputLayer)  [(None, 20)]        0           []                               \n",
            "                                                                                                  \n",
            " embedding_2 (Embedding)        (None, 20, 64)       615104      ['embedding_2_input[0][0]']      \n",
            "                                                                                                  \n",
            " input_3 (InputLayer)           [(None, 5)]          0           []                               \n",
            "                                                                                                  \n",
            " lstm_2 (LSTM)                  (None, 64)           33024       ['embedding_2[0][0]']            \n",
            "                                                                                                  \n",
            " dense_9 (Dense)                (None, 64)           384         ['input_3[0][0]']                \n",
            "                                                                                                  \n",
            " dense_8 (Dense)                (None, 10)           650         ['lstm_2[0][0]']                 \n",
            "                                                                                                  \n",
            " dense_10 (Dense)               (None, 10)           650         ['dense_9[0][0]']                \n",
            "                                                                                                  \n",
            " concatenate_2 (Concatenate)    (None, 20)           0           ['dense_8[0][0]',                \n",
            "                                                                  'dense_10[0][0]']               \n",
            "                                                                                                  \n",
            " dense_11 (Dense)               (None, 12)           252         ['concatenate_2[0][0]']          \n",
            "                                                                                                  \n",
            "==================================================================================================\n",
            "Total params: 650,064\n",
            "Trainable params: 650,064\n",
            "Non-trainable params: 0\n",
            "__________________________________________________________________________________________________\n"
          ]
        }
      ]
    },
    {
      "cell_type": "code",
      "source": [
        "#train test_Split\n",
        "X_train1, X_train2, y_train = Name_X[:15000], X[:15000], y[:15000]\n",
        "X_test1, X_test2, y_test = Name_X[15000:], X[15000:], y[15000:]"
      ],
      "metadata": {
        "id": "jRI_D-L9V6nE"
      },
      "execution_count": 26,
      "outputs": []
    },
    {
      "cell_type": "code",
      "source": [
        "#compile and fit the model\n",
        "full_model.compile( loss='categorical_crossentropy', optimizer=\"adam\", metrics=[\"accuracy\"])\n",
        "history = full_model.fit([X_train1, X_train2], y_train, verbose=2, batch_size=64, epochs=50)"
      ],
      "metadata": {
        "colab": {
          "base_uri": "https://localhost:8080/"
        },
        "id": "m_cGTAufswFF",
        "outputId": "87cb31bc-89b8-4781-b5d9-3979eb8bfa8a"
      },
      "execution_count": 27,
      "outputs": [
        {
          "output_type": "stream",
          "name": "stdout",
          "text": [
            "Epoch 1/50\n",
            "235/235 - 6s - loss: 2.3880 - accuracy: 0.1803 - 6s/epoch - 26ms/step\n",
            "Epoch 2/50\n",
            "235/235 - 5s - loss: 2.3314 - accuracy: 0.2041 - 5s/epoch - 20ms/step\n",
            "Epoch 3/50\n",
            "235/235 - 5s - loss: 2.2687 - accuracy: 0.2188 - 5s/epoch - 19ms/step\n",
            "Epoch 4/50\n",
            "235/235 - 5s - loss: 2.2207 - accuracy: 0.2297 - 5s/epoch - 20ms/step\n",
            "Epoch 5/50\n",
            "235/235 - 5s - loss: 2.1734 - accuracy: 0.2437 - 5s/epoch - 20ms/step\n",
            "Epoch 6/50\n",
            "235/235 - 5s - loss: 2.1321 - accuracy: 0.2517 - 5s/epoch - 20ms/step\n",
            "Epoch 7/50\n",
            "235/235 - 5s - loss: 2.0926 - accuracy: 0.2594 - 5s/epoch - 20ms/step\n",
            "Epoch 8/50\n",
            "235/235 - 5s - loss: 2.0580 - accuracy: 0.2670 - 5s/epoch - 20ms/step\n",
            "Epoch 9/50\n",
            "235/235 - 5s - loss: 2.0261 - accuracy: 0.2761 - 5s/epoch - 20ms/step\n",
            "Epoch 10/50\n",
            "235/235 - 5s - loss: 1.9995 - accuracy: 0.2847 - 5s/epoch - 20ms/step\n",
            "Epoch 11/50\n",
            "235/235 - 5s - loss: 1.9667 - accuracy: 0.2987 - 5s/epoch - 20ms/step\n",
            "Epoch 12/50\n",
            "235/235 - 5s - loss: 1.9314 - accuracy: 0.3107 - 5s/epoch - 20ms/step\n",
            "Epoch 13/50\n",
            "235/235 - 5s - loss: 1.8966 - accuracy: 0.3243 - 5s/epoch - 20ms/step\n",
            "Epoch 14/50\n",
            "235/235 - 5s - loss: 1.8603 - accuracy: 0.3377 - 5s/epoch - 20ms/step\n",
            "Epoch 15/50\n",
            "235/235 - 5s - loss: 1.8242 - accuracy: 0.3538 - 5s/epoch - 20ms/step\n",
            "Epoch 16/50\n",
            "235/235 - 5s - loss: 1.7776 - accuracy: 0.3663 - 5s/epoch - 20ms/step\n",
            "Epoch 17/50\n",
            "235/235 - 6s - loss: 1.7276 - accuracy: 0.3829 - 6s/epoch - 27ms/step\n",
            "Epoch 18/50\n",
            "235/235 - 10s - loss: 1.6943 - accuracy: 0.3972 - 10s/epoch - 41ms/step\n",
            "Epoch 19/50\n",
            "235/235 - 7s - loss: 1.6507 - accuracy: 0.4087 - 7s/epoch - 29ms/step\n",
            "Epoch 20/50\n",
            "235/235 - 5s - loss: 1.6240 - accuracy: 0.4241 - 5s/epoch - 20ms/step\n",
            "Epoch 21/50\n",
            "235/235 - 5s - loss: 1.5934 - accuracy: 0.4335 - 5s/epoch - 20ms/step\n",
            "Epoch 22/50\n",
            "235/235 - 5s - loss: 1.5671 - accuracy: 0.4421 - 5s/epoch - 20ms/step\n",
            "Epoch 23/50\n",
            "235/235 - 5s - loss: 1.5387 - accuracy: 0.4527 - 5s/epoch - 20ms/step\n",
            "Epoch 24/50\n",
            "235/235 - 5s - loss: 1.5202 - accuracy: 0.4550 - 5s/epoch - 20ms/step\n",
            "Epoch 25/50\n",
            "235/235 - 5s - loss: 1.5032 - accuracy: 0.4630 - 5s/epoch - 20ms/step\n",
            "Epoch 26/50\n",
            "235/235 - 5s - loss: 1.4801 - accuracy: 0.4714 - 5s/epoch - 20ms/step\n",
            "Epoch 27/50\n",
            "235/235 - 5s - loss: 1.4682 - accuracy: 0.4710 - 5s/epoch - 19ms/step\n",
            "Epoch 28/50\n",
            "235/235 - 5s - loss: 1.4540 - accuracy: 0.4785 - 5s/epoch - 20ms/step\n",
            "Epoch 29/50\n",
            "235/235 - 5s - loss: 1.4452 - accuracy: 0.4815 - 5s/epoch - 20ms/step\n",
            "Epoch 30/50\n",
            "235/235 - 7s - loss: 1.4297 - accuracy: 0.4853 - 7s/epoch - 31ms/step\n",
            "Epoch 31/50\n",
            "235/235 - 8s - loss: 1.4125 - accuracy: 0.4922 - 8s/epoch - 34ms/step\n",
            "Epoch 32/50\n",
            "235/235 - 6s - loss: 1.3961 - accuracy: 0.4984 - 6s/epoch - 27ms/step\n",
            "Epoch 33/50\n",
            "235/235 - 7s - loss: 1.3863 - accuracy: 0.5030 - 7s/epoch - 28ms/step\n",
            "Epoch 34/50\n",
            "235/235 - 6s - loss: 1.3677 - accuracy: 0.5071 - 6s/epoch - 25ms/step\n",
            "Epoch 35/50\n",
            "235/235 - 5s - loss: 1.3588 - accuracy: 0.5112 - 5s/epoch - 22ms/step\n",
            "Epoch 36/50\n",
            "235/235 - 5s - loss: 1.3527 - accuracy: 0.5109 - 5s/epoch - 20ms/step\n",
            "Epoch 37/50\n",
            "235/235 - 5s - loss: 1.3350 - accuracy: 0.5159 - 5s/epoch - 20ms/step\n",
            "Epoch 38/50\n",
            "235/235 - 5s - loss: 1.3308 - accuracy: 0.5203 - 5s/epoch - 22ms/step\n",
            "Epoch 39/50\n",
            "235/235 - 5s - loss: 1.3180 - accuracy: 0.5263 - 5s/epoch - 20ms/step\n",
            "Epoch 40/50\n",
            "235/235 - 5s - loss: 1.3079 - accuracy: 0.5299 - 5s/epoch - 20ms/step\n",
            "Epoch 41/50\n",
            "235/235 - 5s - loss: 1.2971 - accuracy: 0.5313 - 5s/epoch - 20ms/step\n",
            "Epoch 42/50\n",
            "235/235 - 5s - loss: 1.2833 - accuracy: 0.5343 - 5s/epoch - 20ms/step\n",
            "Epoch 43/50\n",
            "235/235 - 5s - loss: 1.2745 - accuracy: 0.5361 - 5s/epoch - 23ms/step\n",
            "Epoch 44/50\n",
            "235/235 - 5s - loss: 1.2718 - accuracy: 0.5435 - 5s/epoch - 20ms/step\n",
            "Epoch 45/50\n",
            "235/235 - 5s - loss: 1.2578 - accuracy: 0.5426 - 5s/epoch - 20ms/step\n",
            "Epoch 46/50\n",
            "235/235 - 5s - loss: 1.2513 - accuracy: 0.5457 - 5s/epoch - 20ms/step\n",
            "Epoch 47/50\n",
            "235/235 - 5s - loss: 1.2396 - accuracy: 0.5499 - 5s/epoch - 20ms/step\n",
            "Epoch 48/50\n",
            "235/235 - 5s - loss: 1.2436 - accuracy: 0.5479 - 5s/epoch - 20ms/step\n",
            "Epoch 49/50\n",
            "235/235 - 5s - loss: 1.2622 - accuracy: 0.5447 - 5s/epoch - 20ms/step\n",
            "Epoch 50/50\n",
            "235/235 - 5s - loss: 1.2369 - accuracy: 0.5511 - 5s/epoch - 20ms/step\n"
          ]
        }
      ]
    },
    {
      "cell_type": "code",
      "source": [
        "from matplotlib import pyplot as plt\n",
        "\n",
        "# plot model accuracy\n",
        "plt.plot(history.history['accuracy'])\n",
        "plt.title('model accuracy')\n",
        "plt.ylabel('accuracy')\n",
        "plt.xlabel('epoch')\n",
        "plt.legend(['train'], loc='upper left')\n",
        "plt.show()\n",
        "\n",
        "#plot model loss\n",
        "plt.plot(history.history['loss'])\n",
        "plt.title('model loss')\n",
        "plt.ylabel('loss')\n",
        "plt.xlabel('epoch')\n",
        "plt.legend(['train'], loc='upper left')\n",
        "plt.show()"
      ],
      "metadata": {
        "id": "PWpO_nNiHaYV",
        "colab": {
          "base_uri": "https://localhost:8080/",
          "height": 573
        },
        "outputId": "b2940479-41ca-4a42-eae8-aa2bc6eba0fe"
      },
      "execution_count": 29,
      "outputs": [
        {
          "output_type": "display_data",
          "data": {
            "image/png": "[encoded data removed]",
            "text/plain": [
              "<Figure size 432x288 with 1 Axes>"
            ]
          },
          "metadata": {
            "needs_background": "light"
          }
        },
        {
          "output_type": "display_data",
          "data": {
            "image/png": "[encoded data removed]",
            "text/plain": [
              "<Figure size 432x288 with 1 Axes>"
            ]
          },
          "metadata": {
            "needs_background": "light"
          }
        }
      ]
    },
    {
      "cell_type": "code",
      "source": [
        "# predict the output\n",
        "output = full_model.predict([Name_X[:128], X[:128]])\n",
        "output = np.argmax(output, axis=1)"
      ],
      "metadata": {
        "id": "Q04zZDcJcwkt"
      },
      "execution_count": 30,
      "outputs": []
    },
    {
      "cell_type": "code",
      "source": [
        "# accuracy over the test set\n",
        "sum = 0\n",
        "\n",
        "for i,j in zip(output, np.argmax(y_test, axis=1)):\n",
        "  if i == j:\n",
        "    sum += 1\n",
        "print(sum/len(output)*100)"
      ],
      "metadata": {
        "colab": {
          "base_uri": "https://localhost:8080/"
        },
        "id": "M5btjFhizujf",
        "outputId": "bcf3294d-3322-4a46-8ea6-7c7bbab8a711"
      },
      "execution_count": 34,
      "outputs": [
        {
          "output_type": "stream",
          "name": "stdout",
          "text": [
            "14.0625\n"
          ]
        }
      ]
    },
    {
      "cell_type": "code",
      "source": [
        "# model output\n",
        "print(le.inverse_transform(output))"
      ],
      "metadata": {
        "colab": {
          "base_uri": "https://localhost:8080/"
        },
        "id": "0z0SWK8nazxY",
        "outputId": "89b097a1-215f-482f-f02b-88ed32fde986"
      },
      "execution_count": 35,
      "outputs": [
        {
          "output_type": "stream",
          "name": "stdout",
          "text": [
            "['role playing' 'misc' 'action' 'action' 'role playing' 'action' 'action'\n",
            " 'action' 'fighting' 'action' 'adventure' 'puzzle' 'misc' 'shooter'\n",
            " 'action' 'action' 'action' 'action' 'sports' 'platform' 'action' 'action'\n",
            " 'misc' 'action' 'action' 'shooter' 'action' 'platform' 'sports' 'action'\n",
            " 'role playing' 'action' 'sports' 'action' 'adventure' 'strategy' 'action'\n",
            " 'platform' 'role playing' 'simulation' 'adventure' 'shooter' 'action'\n",
            " 'adventure' 'role playing' 'misc' 'sports' 'action' 'sports' 'action'\n",
            " 'action' 'action' 'action' 'action' 'adventure' 'sports' 'action'\n",
            " 'sports' 'misc' 'action' 'sports' 'sports' 'fighting' 'action' 'action'\n",
            " 'action' 'sports' 'role playing' 'action' 'action' 'sports' 'action'\n",
            " 'action' 'misc' 'shooter' 'shooter' 'sports' 'action' 'action'\n",
            " 'role playing' 'role playing' 'action' 'role playing' 'action' 'action'\n",
            " 'action' 'action' 'sports' 'racing' 'action' 'role playing' 'adventure'\n",
            " 'adventure' 'action' 'simulation' 'misc' 'misc' 'puzzle' 'shooter'\n",
            " 'action' 'action' 'action' 'sports' 'strategy' 'action' 'role playing'\n",
            " 'shooter' 'sports' 'action' 'action' 'misc' 'adventure' 'action' 'sports'\n",
            " 'adventure' 'shooter' 'role playing' 'action' 'strategy' 'action'\n",
            " 'sports' 'action' 'adventure' 'strategy' 'action' 'action' 'action'\n",
            " 'action']\n"
          ]
        }
      ]
    },
    {
      "cell_type": "code",
      "source": [
        ""
      ],
      "metadata": {
        "id": "BafD6P87bIgr"
      },
      "execution_count": null,
      "outputs": []
    }
  ]
}